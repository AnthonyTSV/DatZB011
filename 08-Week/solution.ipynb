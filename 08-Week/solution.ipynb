{
 "cells": [
  {
   "cell_type": "markdown",
   "id": "0b6174de",
   "metadata": {},
   "source": [
    "# 1. PD atrisinājums"
   ]
  },
  {
   "cell_type": "markdown",
   "id": "c543e9a3",
   "metadata": {},
   "source": [
    "## 1. uzdevums. Ķīmiskie elementi vārdnīcā\n",
    "\n",
    "Aplūkosim vārdnīcu `elements_10`, kurā ir 10 pirmie ķīmiskie elementi no periodiskās tabulas:\n",
    "\n",
    "```python\n",
    "elements_10 = {1: '', 2: 'Helijs', 3: 'Litijs',\n",
    "4: 'Berilijs', 5: 'Bors', 6: 'Ogludenradis',\n",
    "7: 'Slapeklis', 8: '',\n",
    "9: 'Fluors', 10: 'Neons'}\n",
    "```\n",
    "\n",
    "a) Ķīmiskie elementi ar 1. (ūdeņradis) un 8. numuru (skābeklis) pazuda.\n",
    "Nokopējiet `elements_10` savā failā un izlabojiet vārdnīcu tā, lai atslēgām 1 un 8 būtu pareizās vērtības. Izmantojiet šo paņēmienu:\n",
    "\n",
    "```python\n",
    "vardnica[atslega] = 'vertiba'\n",
    "```\n",
    "\n",
    "b) Nokopējiet sekojošo kodu savā skriptā un palaidiet to. Atrodiet atšķirību starp divām izdrukātajām vārdnīcām un izskaidrojiet, kāpēc tās ir atšķirīgas.\n",
    "\n",
    "```python\n",
    "elements_10_copy = elements_10.copy()\n",
    "elements_10_copy.update({11: 'Natrijs'})\n",
    "print(elements_10)\n",
    "print('\\n')\n",
    "elements_11 = elements_10\n",
    "elements_11.update({11: 'Natrijs'})\n",
    "print(elements_10)\n",
    "```"
   ]
  },
  {
   "cell_type": "code",
   "execution_count": 1,
   "id": "d5292bd2",
   "metadata": {},
   "outputs": [
    {
     "name": "stdout",
     "output_type": "stream",
     "text": [
      "{1: 'Udenradis', 2: 'Helijs', 3: 'Litijs', 4: 'Berilijs', 5: 'Bors', 6: 'Ogludenradis', 7: 'Slapeklis', 8: 'Skabeklis', 9: 'Fluors', 10: 'Neons'}\n"
     ]
    }
   ],
   "source": [
    "elements_10 = {1: '', 2: 'Helijs', 3: 'Litijs',\n",
    "4: 'Berilijs', 5: 'Bors', 6: 'Ogludenradis',\n",
    "7: 'Slapeklis', 8: '',\n",
    "9: 'Fluors', 10: 'Neons'}\n",
    "elements_10[1] = 'Udenradis'\n",
    "elements_10[8] = 'Skabeklis'\n",
    "print(elements_10)"
   ]
  },
  {
   "cell_type": "code",
   "execution_count": 2,
   "id": "9ff8f097",
   "metadata": {},
   "outputs": [
    {
     "name": "stdout",
     "output_type": "stream",
     "text": [
      "{1: 'Udenradis', 2: 'Helijs', 3: 'Litijs', 4: 'Berilijs', 5: 'Bors', 6: 'Ogludenradis', 7: 'Slapeklis', 8: 'Skabeklis', 9: 'Fluors', 10: 'Neons'}\n",
      "\n",
      "\n",
      "{1: 'Udenradis', 2: 'Helijs', 3: 'Litijs', 4: 'Berilijs', 5: 'Bors', 6: 'Ogludenradis', 7: 'Slapeklis', 8: 'Skabeklis', 9: 'Fluors', 10: 'Neons', 11: 'Natrijs'}\n"
     ]
    }
   ],
   "source": [
    "elements_10_copy = elements_10.copy()\n",
    "elements_10_copy.update({11: 'Natrijs'})\n",
    "print(elements_10)\n",
    "print('\\n')\n",
    "elements_11 = elements_10\n",
    "elements_11.update({11: 'Natrijs'})\n",
    "print(elements_10)"
   ]
  },
  {
   "cell_type": "markdown",
   "id": "3371e7f6",
   "metadata": {},
   "source": [
    "Divas vārdnīcas ir atšķirīgas tāpēc, ka `elements_10_copy` ir izveidota kā `elements_10` kopija, izmantojot metodi `.copy()`. Izmaiņas, kas veiktas `elements_10_copy`, neietekmē oriģinālo vārdnīcu `elements_10`. Savukārt `elements_11` ir tikai atsauce uz `elements_10`, tāpēc izmaiņas, kas veiktas `elements_11`, tieši ietekmē arī `elements_10`. Kad mēs pievienojam jaunu elementu ar atslēgu 11, tas parādās arī `elements_10`."
   ]
  },
  {
   "cell_type": "markdown",
   "id": "fe9173cb",
   "metadata": {},
   "source": [
    "## 2. uzdevums. Izlabo Einšteina kodu\n",
    "\n",
    "Speciālā relativitāte ir fizikas nozare, kas apraksta kustības ar ļoti lieliem ātrumiem.\n",
    "Šajā teorijā objekta impulss $p$ ar ātrumu $v$ (m/s) un masu $m$ (kg) ir:\n",
    "\n",
    "$$\n",
    "p = m \\cdot v \\cdot \\gamma, \\; \\gamma = \\frac{1}{\\sqrt{1 - \\frac{v^2}{c^2}}},\n",
    "$$\n",
    "\n",
    "kur $c \\approx 300 \\, 000 \\, 000$ m/s ir gaismas ātrums. Tālāk redzamā programma mēģina aprēķināt objekta impulsu, ja tā ātrums ir $\\tfrac{1}{3}$ no gaismas ātruma un masa $m = 0.14$ kg. Programmā ir daudz kļūdu, un tā nestrādā.\n",
    "Nokopējiet programmu, palaidiet to, izlabojiet kļūdas un panāciet, lai tā darbojas pareizi.\n",
    "\n",
    "```python\n",
    "from math import squareroot\n",
    "c = 300 000 000 # m/s\n",
    "v = 100 000 000 # m/s\n",
    "m = 0,14 # kg\n",
    "gamma = 1 / squareroot (1 -( v ^2/ c ^2) )\n",
    "p = m * v * gamma\n",
    "print p\n",
    "```"
   ]
  },
  {
   "cell_type": "code",
   "execution_count": 3,
   "id": "36fddfee",
   "metadata": {},
   "outputs": [
    {
     "name": "stdout",
     "output_type": "stream",
     "text": [
      "86719147.40307236\n"
     ]
    }
   ],
   "source": [
    "from math import sqrt\n",
    "c = 300_000_000  # m/s\n",
    "v = 270_000_000  # m/s\n",
    "m = 0.14 # kg\n",
    "gamma = 1 / sqrt(1 - (v ** 2 / c ** 2))\n",
    "p = m * v * gamma\n",
    "print(p)"
   ]
  },
  {
   "cell_type": "markdown",
   "id": "ceeb857c",
   "metadata": {},
   "source": [
    "## 3. uzdevums. Iterācijas cauri cilpu rādiusiem\n",
    "\n",
    "Lai varētu izbraukt cauri cilpai, nepieciešams minimālais ātrums, lai nezaudētu kontaktu ar cilpas virsmu.\n",
    "\n",
    "Pieņemsim, ka kaskadieris brauc cauri cilpai. Lai kaskadieris visā kustībā saglabātu kontaktu ar cilpu, nepieciešams, lai ātrums būtu vismaz:\n",
    "\n",
    "$$\n",
    "v = \\sqrt{g r}\n",
    "$$\n",
    "\n",
    "Šeit, $g = 9.81 \\, m/s^2$ un $r$ ir cilpas rādiuss (metros).\n",
    "\n",
    "---\n",
    "\n",
    "Jums ir dota programma, kas izmanto `while` ciklu, lai iterētu cauri dažādu cilpu rādiusu sarakstam $r$.\n",
    "Katram rādiusam $r$ tiek aprēķināts un izdrukāts minimālais ātrums $v$:\n",
    "\n",
    "```python\n",
    "from math import sqrt\n",
    "\n",
    "g = 9.81\n",
    "r = [2.7, 3.43, 5.62, 7.1]\n",
    "num_loops = len(r)\n",
    "v = [0] * num_loops\n",
    "\n",
    "i = 0\n",
    "while i < num_loops:\n",
    "    v[i] = sqrt(r[i] * g)      # m/s\n",
    "    v[i] = v[i] * 3600 / 1000  # convert to km/h\n",
    "    print(\"Least speed to complete the loop: %.2f km/h\" % v[i])\n",
    "    i += 1\n",
    "```\n",
    "\n",
    "**Uzdevums**:\n",
    "Pārveidot programmu, lai tā\n",
    "1. izmantotu `for` ciklu, nevis `while` ciklu;\n",
    "2. izdrukā $v$ vērtības atsevišķā ciklā pēc visu $v$ aprēķina."
   ]
  },
  {
   "cell_type": "code",
   "execution_count": 4,
   "id": "8a35d6e0",
   "metadata": {},
   "outputs": [
    {
     "name": "stdout",
     "output_type": "stream",
     "text": [
      "Least speed to complete the loop: 18.53 km/h\n",
      "Least speed to complete the loop: 20.88 km/h\n",
      "Least speed to complete the loop: 26.73 km/h\n",
      "Least speed to complete the loop: 30.04 km/h\n"
     ]
    }
   ],
   "source": [
    "from math import sqrt\n",
    "\n",
    "g = 9.81\n",
    "r = [2.7, 3.43, 5.62, 7.1]\n",
    "num_loops = len(r)\n",
    "v = [0] * num_loops\n",
    "\n",
    "for i in range(num_loops):\n",
    "    v[i] = sqrt(r[i] * g)      # m/s\n",
    "    v[i] = v[i] * 3600 / 1000  # convert to km/h\n",
    "\n",
    "for value in v:\n",
    "    print(\"Least speed to complete the loop: %.2f km/h\" % value)"
   ]
  },
  {
   "cell_type": "markdown",
   "id": "a74e7590",
   "metadata": {},
   "source": [
    "## 4. uzdevums. Populācijas pieaugums\n",
    "\n",
    "Populācijas izaugsmi bieži apraksta ar loģistisko funkciju:\n",
    "\n",
    "$$\n",
    "N(t) = \\frac{B}{1+C e^{-kt}},\n",
    "$$\n",
    "\n",
    "kur $B$ ir sugas ietilpība vidē (maksimālais populācijas lielums, ko vide var uzturēt ilgtermiņā).\n",
    "Konstante $k$ raksturo izaugsmes ātrumu, savukārt $C$ tiek noteikts no sākuma apstākļiem.\n",
    "\n",
    "Apsveriet baktēriju koloniju ar parametriem:\n",
    "\n",
    "- ietilpība $B = 50000$\n",
    "\n",
    "- $k = 0.2 , h^{-1}$ (h – stundas)\n",
    "\n",
    "- sākuma populācija $N(0) = 5000$\n",
    "\n",
    "a) Izmantojot sākuma nosacījumu, noteikt $C$.\n",
    "\n",
    "b) Uzrakstīt programmu, kas aprēķina baktēriju skaitu pēc 24 stundām.\n",
    "\n",
    "c) Uzzīmēt baktēriju pieauguma grafiku 24 stundu laikā, izmantojot logaritmisko skalu y asij.\n",
    "\n",
    ">[!TIP]\n",
    "> Lai atrastu $C$, ievietojiet $t = 0$ iepriekšējā izteiksmē un atrisiniet iegūto vienādojumu. Tā iegūsiet formulu $C$ aprēķinam kā funkciju no $N$ un $B$, ko var izmantot programmā."
   ]
  },
  {
   "cell_type": "code",
   "execution_count": 6,
   "id": "9a95fdb8",
   "metadata": {},
   "outputs": [
    {
     "name": "stdout",
     "output_type": "stream",
     "text": [
      "46551.99938399246\n"
     ]
    },
    {
     "data": {
      "image/png": "[encoded data removed]",
      "text/plain": [
       "<Figure size 640x480 with 1 Axes>"
      ]
     },
     "metadata": {},
     "output_type": "display_data"
    }
   ],
   "source": [
    "import math\n",
    "import matplotlib.pyplot as plt\n",
    "import numpy as np\n",
    "B = 50000\n",
    "k = 0.2 # h^-1\n",
    "N_0 = 5000\n",
    "t = 24 # h\n",
    "\n",
    "C = (B / N_0) - 1\n",
    "N_t = B / (1 + C * math.exp(-k * t))\n",
    "print(N_t)\n",
    "\n",
    "time = np.linspace(0, 24, 100)\n",
    "N_t_values = B / (1 + C * np.exp(-k * time))\n",
    "plt.plot(time, N_t_values)\n",
    "plt.xlabel('Time (hours)')\n",
    "plt.ylabel('Bacteria Population N(t)')\n",
    "plt.title('Bacteria Growth Over Time')\n",
    "plt.yscale('log')\n",
    "plt.grid()\n",
    "plt.show()"
   ]
  },
  {
   "cell_type": "markdown",
   "id": "c558b345",
   "metadata": {},
   "source": [
    "## 5. uzdevums. Trāpīt mērķī\n",
    "\n",
    "Simulēsim spēli, kur bumba tiek mesta pret sienu ar uzkrāsotu mērķi. Punkti tiek piešķirti atkarībā no tā, kur bumba trāpa.\n",
    "\n",
    "![hit_target](hit_target.png)\n",
    "\n",
    "_Ilustrācija sistēmai, uz kuras pamata veidosim simulāciju._\n",
    "\n",
    "Bumbas augstumu var aprakstīt ar funkciju:\n",
    "\n",
    "$$\n",
    "y(t) = -\\frac{1}{2} g t^2 + v_0 t \\sin(\\theta),\n",
    "$$\n",
    "\n",
    "kur $v_0$ ir sākuma ātrums, $\\theta$ ir mešanas leņķis, un $g = 9.81 , m/s^2$.\n",
    "\n",
    "a) Uzrakstīt funkciju, kas atgriež bumbas augstumu dotajā laikā $t$.\n",
    "\n",
    "b) Modeļa ietvaros bumba trāpīs sienai laikā\n",
    "\n",
    "$$\n",
    "T = \\frac{b}{v_0 \\cos(\\theta)},\n",
    "$$\n",
    "\n",
    "kur $b$ ir attālums līdz sienai.\n",
    "Pēc $y(T)$ vērtības noteiks punktus. Punktu skaits tiek aprēķināts un atgriezts ar funkciju, kuru jāuzraksta pašam.\n",
    "\n",
    "Mērķis atrodas uz sienas no augstuma $h_0$ līdz $h_1$ ($h_0 < h_1$).\n",
    "Punkti tiek piešķirti pēc šādiem noteikumiem:\n",
    "\n",
    "Punkti tiek piešķirti pēc šādiem noteikumiem:\n",
    "\n",
    "- Saņem 0 punktus, ja $y(T) < h_0$ vai $y(T) > h_1$\n",
    "- Saņem 1 punktu, ja $h_0 ≤ y(T) < 1/2 (h_1 + h_0)$\n",
    "- Saņem 2 punktus, ja $1/2 (h_1 + h_0) ≤ y(T) ≤ h_1$\n",
    "\n",
    "**Uzdevums**:\n",
    "\n",
    "a) Uzrakstīt programmu, kas ar for ciklu izdrukā punktu skaitu, ja\n",
    "$h_0 = 3 , m$, $h_1 = 3.5 , m$, $\\theta = \\pi/4$, $b = 3.5 , m$ un $v_0 = 15, 16, 19, 22 , m/s$.\n",
    "\n",
    "b) Uzzīmēt grafiku, kas rāda sakarību starp sākuma ātrumu $v_0$ un iegūtajiem punktiem."
   ]
  },
  {
   "cell_type": "code",
   "execution_count": 17,
   "id": "b8ddc9ca",
   "metadata": {},
   "outputs": [
    {
     "name": "stdout",
     "output_type": "stream",
     "text": [
      "At initial speed 15 m/s, the height at target is 2.97 m\n",
      "Initial speed: 15 m/s, Points scored: 0\n",
      "At initial speed 16 m/s, the height at target is 3.03 m\n",
      "Initial speed: 16 m/s, Points scored: 1\n",
      "At initial speed 19 m/s, the height at target is 3.17 m\n",
      "Initial speed: 19 m/s, Points scored: 1\n",
      "At initial speed 22 m/s, the height at target is 3.25 m\n",
      "Initial speed: 22 m/s, Points scored: 2\n"
     ]
    }
   ],
   "source": [
    "import math\n",
    "h_0 = 3 # m\n",
    "h_1 = 3.5 # m\n",
    "theta = math.pi / 4\n",
    "b = 3.5 # m\n",
    "v_0 = [15, 16, 19, 22] # m/s\n",
    "\n",
    "def time_of_flight(v_0, theta, b):\n",
    "    return b / (v_0 * math.cos(theta))\n",
    "\n",
    "def height(t, v_0):\n",
    "    g = 9.81 # m/s^2\n",
    "    return -0.5 * g * t**2 + v_0 * t * math.sin(theta)\n",
    "\n",
    "def points_scored(v_0, h_0, h_1, b, theta):\n",
    "    T = time_of_flight(v_0, theta, b)\n",
    "    y_T = height(T, v_0)\n",
    "    print(f\"At initial speed {v_0} m/s, the height at target is {y_T:.2f} m\")\n",
    "    if y_T < h_0 or y_T > h_1:\n",
    "        return 0\n",
    "    elif h_0 <= y_T < 0.5 * (h_1 + h_0):\n",
    "        return 1\n",
    "    else:\n",
    "        return 2\n",
    "\n",
    "for v in v_0:\n",
    "    score = points_scored(v, h_0, h_1, b, theta)\n",
    "    print(f\"Initial speed: {v} m/s, Points scored: {score}\")\n"
   ]
  }
 ],
 "metadata": {
  "kernelspec": {
   "display_name": ".venv",
   "language": "python",
   "name": "python3"
  },
  "language_info": {
   "codemirror_mode": {
    "name": "ipython",
    "version": 3
   },
   "file_extension": ".py",
   "mimetype": "text/x-python",
   "name": "python",
   "nbconvert_exporter": "python",
   "pygments_lexer": "ipython3",
   "version": "3.10.5"
  }
 },
 "nbformat": 4,
 "nbformat_minor": 5
}
