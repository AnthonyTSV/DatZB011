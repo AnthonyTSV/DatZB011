{
 "cells": [
  {
   "cell_type": "markdown",
   "id": "4617d9af-6809-4a4e-a4d4-e5b622f2c6cb",
   "metadata": {},
   "source": [
    "<h4>1. UZDEVUMS</h4>\n",
    "\n",
    "<p>Interpretēt šo koda fragmentu. Atbildēt uz jautājumiem:</p>\n",
    "<ol>\n",
    "    <li>Kas ir <code>pac1</code>, <code>pac2</code>, <code>pac3</code>? Vai tie ir <code>int</code>, <code>string</code>?</li>\n",
    "    <li>Kas tiek padots <code>oo.Pacients()</code> iniciēšanai? Kas tie varētu būt par datiem?</li>\n",
    "    <li>Uzklikšķinot uz kāda no objektiem, ko tur var ieraudzīt?</li>\n",
    "    <li>Kas ir <code>Pacients</code> objektu saturs - kāda tipa lauki tie ir?</li>\n",
    "</ol>\n",
    "\n",
    "<p>Izveidot pašiem savu papildus <code>Pacients</code> objektu!</p>"
   ]
  },
  {
   "cell_type": "code",
   "execution_count": 2,
   "id": "fc30eb5c-5661-4360-b20b-ecdefd27454c",
   "metadata": {},
   "outputs": [],
   "source": [
    "import programmesana_pakete as oo\n",
    "\n",
    "pac1 = oo.Pacients(\"Janka Jansons\", 42, [36.6, 37.7, 38.8, 39.9])\n",
    "pac2 = oo.Pacients(\"Beāte Burka\", 20, [36.5, 36.5, 40.1])\n",
    "pac3 = oo.Pacients(\"Tālis Tālivalds\", 80, [20.5, 16.5, 12.1])"
   ]
  },
  {
   "cell_type": "markdown",
   "id": "082e79ef-8d73-4490-92cb-4b29919f2c0d",
   "metadata": {},
   "source": [
    "<h4>2. UZDEVUMS</h4>\n",
    "\n",
    "<p>Interpretēt šo koda fragmentu un vērot, kas tiek atgūts mainīgajos.</p>\n",
    "\n",
    "<p>Atvērt arī failu <code>programmesana_pakete.py</code> un atrast vietu, kurā tiek ieviesti lauku apzīmējumi <code>vards</code>, <code>temperatura</code> u.c.\n",
    "\n",
    "<p>Izpētīt vietu, kurā tiek definēta metode <code>vai_vesels</code>. Ko tā dara? Ar ko tā atšķiras no pārējiem laukiem? Kāpēc to izsaucot tiek lietotas iekavas? Kāda varētu būt atšķirība starp laukiem (<i>fields</i>) un metodēm (<i>methods</i>)?</p>"
   ]
  },
  {
   "cell_type": "code",
   "execution_count": 3,
   "id": "9cfc5799-21c1-491f-8450-69be75da5833",
   "metadata": {},
   "outputs": [
    {
     "name": "stdout",
     "output_type": "stream",
     "text": [
      "Beāte Burka\n",
      "[36.5, 36.5, 40.1]\n",
      "40.1\n",
      "False\n"
     ]
    }
   ],
   "source": [
    "v = pac2.vards\n",
    "t = pac2.temperatura\n",
    "t_last = pac2.temperatura_pedeja\n",
    "criteria = pac2.vai_vesels()\n",
    "\n",
    "print(v)\n",
    "print(t)\n",
    "print(t_last)\n",
    "print(criteria)"
   ]
  },
  {
   "cell_type": "markdown",
   "id": "ff64f95f-43b6-43f9-ac28-19e3b34d213c",
   "metadata": {},
   "source": [
    "<h4>3. UZDEVUMS</h4>\n",
    "\n",
    "<p>Zemāk esošais kods <b>NESTRĀDĀ</b>! Salabo to! Objekta klases definīcijā izmainīt <code>__init__</code> metodes darbību tā, lai šis kods strādātu, t.i., atsevišķos laukos tiktu iniciēts vārds un uzvārds. Nepieciešams panākt, lai strādā objektu definēšana un lauku lietošana ar lauku <code>uzvards</code>.</p>\n",
    "\n",
    "<p>Ievēro, ka izmainot objektu definīcijas, ir par jaunu jāimportē pakotne ar <code>import ...</code>.</p>"
   ]
  },
  {
   "cell_type": "code",
   "execution_count": null,
   "id": "1e0672cd-41f6-4707-9134-668e9585e7a2",
   "metadata": {},
   "outputs": [],
   "source": [
    "import programmesana_pakete_labota as oo\n",
    "\n",
    "pac1 = oo.Pacients(\"Janka\", \"Jansons\", 42, [36.6, 37.7, 38.8, 39.9])\n",
    "pac2 = oo.Pacients(\"Beāte\", \"Burka\", 10, [36.5, 36.5, 40.1])\n",
    "pac3 = oo.Pacients(\"Emija\", \"Laiva\", 6, [36.5, 36.5, 40.1])\n",
    "pac4 = oo.Pacients(\"Tālis\", \"Tālivalds\", 80, [20.5, 16.5, 12.1])\n",
    "\n",
    "v = pac2.vards\n",
    "u = pac2.uzvards\n",
    "t = pac2.temperatura\n",
    "t_last = pac2.temperatura_pedeja\n",
    "criteria = pac2.vai_vesels()\n",
    "\n",
    "print(v)\n",
    "print(u)\n",
    "print(t)\n",
    "print(t_last)\n",
    "print(criteria)"
   ]
  },
  {
   "cell_type": "markdown",
   "id": "c6166c9e-1001-42a8-bf16-a29af9bac117",
   "metadata": {},
   "source": [
    "<h4>4. UZDEVUMS</h4>\n",
    "\n",
    "<p>Interpretē šo koda fragmentu un vēro, kas tiek izvadīts konsolē.</p>\n",
    "\n",
    "<p>Atrodi vietu <code>programmesana_pakete_labota.py</code>, kas atbild par to kā izskatās komandas <code>print(&lt;objekts&gt;)</code> izvads. Salabo to, lai tas parādītu, gan pacienta vārdu, gan uzvārdu (atceries - tu tikko izmainīji objekta lauku struktūru!)</p>"
   ]
  },
  {
   "cell_type": "code",
   "execution_count": null,
   "id": "3434babb-586c-4bad-a9a5-742f39587302",
   "metadata": {},
   "outputs": [],
   "source": [
    "print(pac1)\n",
    "print(pac2)\n",
    "print(pac3)"
   ]
  },
  {
   "cell_type": "markdown",
   "id": "bfe961ff-7de9-489b-8258-866ba0b339e4",
   "metadata": {},
   "source": [
    "<h4>5. UZDEVUMS</h4>\n",
    "\n",
    "<p>Kā redzi piemērā zemāk, objektus var salikt paša definētā sarakstā (<i>list</i>)!</p>\n",
    "<p>Izveido ciklu, kas pāriet pāri šim sarakstam un saskaita cik pacientu ir mazgadīgi.</p>"
   ]
  },
  {
   "cell_type": "code",
   "execution_count": null,
   "id": "d6ccee6a-a0d0-44e8-93df-dbf3ae21ec4a",
   "metadata": {},
   "outputs": [],
   "source": [
    "pacientu_saraksts = [pac1, pac2, pac3, pac4]\n",
    "\n",
    "# Šeit pašam jāraksta cikls, kas saskaitīs cik mazgadīgo un šo skaitu saglabās\n",
    "# mainīgajā 'mazgadigo_skaits'\n",
    "\n",
    "print(mazgadigo_skaits)"
   ]
  },
  {
   "cell_type": "markdown",
   "id": "a5e74389-9139-4d8d-83b5-2277555ac117",
   "metadata": {},
   "source": [
    "<h4>6. UZDEVUMS</h4>\n",
    "\n",
    "<p>Intepretē šo koda fragmentu un ievēro, ka definē citu objektu - nevis <code>Pacients</code>, bet gan <code>MaksasPacients</code>. Ievēro, ka arī šim objektam strādā metode <code>vai_vesels()</code>.</p>\n",
    "\n",
    "<p>UZMANĪGI! Ievēro, ka pacienta definēšanai jau tiek izmantots atsevišķi <b>Vārds</b> un <b>Uzvārds.</b> Vai tev izdevās 3. uzdevuma papildinājums? Tam šeit ir jāstrādā.</p>\n",
    "\n",
    "<p>Apskati klases <code>MaksasPacients</code> definīciju importētajā pakotnē. Ievēro, ka klases definīcijā nav definēta metode <code>vai_vesels</code>. Taču kāpēc tā strādā? Kuras koda rindiņas nosaka, ka tiek pārmantotas objekta <code>Pacients</code> metodes?</p>"
   ]
  },
  {
   "cell_type": "code",
   "execution_count": null,
   "id": "6f012b1c-1348-4e2b-91bc-536f2361d050",
   "metadata": {},
   "outputs": [],
   "source": [
    "maks_pac1 = oo.MaksasPacients(\"Andris\", \"Bērziņš\", 23, [36.6, 35.6], 123.12, 13.54)\n",
    "print(maks_pac1.vai_vesels())"
   ]
  },
  {
   "cell_type": "markdown",
   "id": "8cd3eb00-23ec-4271-a8b1-10fee6a76e3f",
   "metadata": {},
   "source": [
    " <h4>7. UZDEVUMS</h4>\n",
    "\n",
    "<p>Uzraksti šeit zemāk koda komentāru veidā trīs iemeslus kādēļ šāda pieeja - objektorientēta programmēšana varētu būt noderīga? Kādi ieguvumi ir šādai pieejai pār <i>klasisku</i> procedurālas programmēšanas pieeju, kur dati tiek glabāti sarakstos: viens pacientu vārdiem, cits - uzvārdiem, trešais – temperatūrām.</p>\n",
    "\n",
    "<ol>\n",
    "    <li>iemesls: ...</li>\n",
    "    <li>iemesls: ...</li>\n",
    "    <li>iemesls: ...</li>\n",
    "</ol>"
   ]
  },
  {
   "cell_type": "code",
   "execution_count": null,
   "id": "ff94309c-7642-440d-8436-c09c3b80ed99",
   "metadata": {},
   "outputs": [],
   "source": []
  }
 ],
 "metadata": {
  "kernelspec": {
   "display_name": "Python 3 (ipykernel)",
   "language": "python",
   "name": "python3"
  },
  "language_info": {
   "codemirror_mode": {
    "name": "ipython",
    "version": 3
   },
   "file_extension": ".py",
   "mimetype": "text/x-python",
   "name": "python",
   "nbconvert_exporter": "python",
   "pygments_lexer": "ipython3",
   "version": "3.11.5"
  }
 },
 "nbformat": 4,
 "nbformat_minor": 5
}
