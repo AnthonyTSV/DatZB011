{
 "cells": [
  {
   "cell_type": "code",
   "execution_count": null,
   "id": "f270a03c",
   "metadata": {},
   "outputs": [],
   "source": [
    "import numpy as np\n",
    "from matplotlib import pyplot as plt\n",
    "import scipy.linalg as la\n",
    "import csv"
   ]
  },
  {
   "cell_type": "markdown",
   "id": "f7133d67",
   "metadata": {},
   "source": [
    "## 1. uzdevums. Kompleksi skaitļi"
   ]
  },
  {
   "cell_type": "markdown",
   "id": "41d686c5",
   "metadata": {},
   "source": [
    "Reālu argumentu elementāro funkciju $f:\\mathbb{R}\\to\\mathbb{R}$ paplašinājumi līdz kompleksiem skaitļiem ir pazīstami kā analītiskās funkcijas $F:\\mathbb{C}\\to\\mathbb{C}$. Šajā uzdevumā apskatīsim sīnusa funkcijas paplašinājumu līdz kompleksajiem skaitļiem. Pieņemsim, ka $z=a+b\\ii$.<i>Python</i> kompleksos skaitļus pieraksta sekojoši `1.2+2.4j` – ņemiet vērā, ka netiek izmantotas atstarpes vai reizināšanas zīme starp imagināro daļu un `j`.\n",
    "\n",
    "1. Izsaki $\\sin z$ kompleksu kāpinātāju veidā:\n",
    "$\\sin z=\\frac{1}{2\\mathrm{i}}\\left[\\exp(\\mathrm{i}z)-\\exp(-\\mathrm{i}z)\\right]$\n",
    "2. Izsaki  $\\sin z$ reālo un imaginaro daļu trigonometrisku un hiperbolisku funkciju ar reāliem argumentiem $a$ vai $b$ veidā:\n",
    "$\\begin{aligned}\n",
    "    \\sin z &= \\sin(a+b\\mathrm{i})\\\\\n",
    "    &= \\sin a\\cos b\\mathrm{i}+\\cos a\\sin b\\mathrm{i}\\\\\n",
    "    &= \\sin a\\cosh b+\\mathrm{i}\\cos a\\sinh b.\n",
    "\\end{aligned}$"
   ]
  },
  {
   "cell_type": "markdown",
   "id": "0c873713",
   "metadata": {},
   "source": [
    "Tagad nepieciešams izveidot $\\sin z$ grafiku. Šī uzdevuma problēma ir tajā, ka funkcijas ievaddatiem jābūt kompleksam skaitlim, resp., reāla $\\Re z$ un imagināra $\\Im z$ skaitļa pārim, kā arī funkcijas izvadē iegūsim kompleksu skaitli, resp., reāla $\\Re\\sin z$ un imagināra $\\Im\\sin z$ skaitļa pāri. Ja vēlamies attēlot visu vienā grafikā, nepietiks dimensiju. Šo problēma parasti risina, veidojot *kontūras* (*contour*) grafikus $\\Re\\sin z$ un $\\Im\\sin z$. Horizontālās un vertikālās asis būs reālās daļas, savukārt kmpleksās plaknes imaginarās asis tiks kodētas, izmantojot krāsu.\n",
    "\n",
    "3. Izveido divus masīvus `x` un `y` $z$ reālajai un imaginārajai daļai, abiem masīviem jāsatur 201 vērtību ar vienādiem soļiem diapazonā $[-\\pi,\\pi]$. Šī uzdevuma izpildei izmanto funkciju `np.linspace()`.\n",
    "4. Mums ir nepieciešami visi iespējamie `x` un `y` vērtību pāri, tāpēc nepieciešams paplašināt katru vektoru. To iespējams paveikt ar komandu `xx, yy = np.meshgrid(x, y)`.\n",
    "5. Tagad nepieciešams aprēķināt funkcijas $\\sin z$ vērtības izveidotajā telpā (*mesh*)."
   ]
  },
  {
   "cell_type": "code",
   "execution_count": null,
   "id": "258a4467",
   "metadata": {},
   "outputs": [],
   "source": [
    "#vieta kodam"
   ]
  },
  {
   "cell_type": "markdown",
   "id": "83a60e83",
   "metadata": {},
   "source": [
    "6. Visbeidzot varam izveidot kontūras grafikus no $\\Re\\sin z$ un $\\Im\\sin z$, kas saturēs 30 kontūru līmeņus. Tam izmantosim funkciju `plt.contourf()`."
   ]
  },
  {
   "cell_type": "code",
   "execution_count": null,
   "id": "2f31150e",
   "metadata": {},
   "outputs": [],
   "source": [
    "#pirmais grafiks"
   ]
  },
  {
   "cell_type": "code",
   "execution_count": null,
   "id": "2decb4bd",
   "metadata": {},
   "outputs": [],
   "source": [
    "#otrais grafiks"
   ]
  },
  {
   "cell_type": "markdown",
   "id": "a6a71deb",
   "metadata": {},
   "source": [
    "## 2. uzdevums. Lineāru vienādojumu sistēma"
   ]
  },
  {
   "cell_type": "markdown",
   "id": "39d274b6",
   "metadata": {},
   "source": [
    "Rekursīvi vienādojumi ar mainīgajiem $x_0, x_1,\\dots,x_N$ satur arī informāciju, kā noteikt jebkura mainīgā vērtību, ja zināmi tā kaimiņi. Lai varētu noteikt jebkuru virknes locekli, nepieciešama arī viens vai vairāki *pamata gadījumi*.\n",
    "\n",
    "Piemēram, Fibonači virknē $F=(1,1,2,3,5,8,\\dots)$ katrs virknes loceklis ir divu iepriekšējo summa, t.\\i., $F_n=F_{n-1}+F_{n-2}$. Ja nodrošinām divus pamata gadījumus (number of different terms in the relation minus 1) $F_0=1$ un $F_1=1$, tad varam aprēķināt jebkuru virknes locekli, piemēram, $F_2=F_1+F_0=2$, $F_3=F_2+F_1=3$ utt. Tomēr tik vienkārš risinājums ne vienmēr nostrādā.\n",
    "\n",
    "Aplūkosim šādu rekursīvas saistības gadījumu \n",
    "$$\\frac{x_{n-1}-2x_{n}+x_{n+1}}{\\delta^2}+\\omega^2x_n=0 ,$$\n",
    "kur $\\omega$ un $\\delta$ ir pozitīvas konstantes. Saistība satur trīs dažādus locekļus ($x_{n-1}$, $x_n$ un $x_{n+1}$), tātad nepieciešami divi pamata gadījumi. Pieņemsim, ka $x_0=0.1$ un $x_{785}=0$. Šāda veida saistības bieži tiek izmantotas, lai risinātu diferenciālvienādojumus (nākotnē sastapsiet matemātikas kursos).\n",
    "\n",
    "Lai atrastu visus virknes locekļus $x_n$, iepriekšējo vienādojumu varam pārrakstīt šekojoši \n",
    "$$x_{n-1}+(\\omega^2\\delta^2-2)x_n+x_{n+1}=0$$\n",
    "un izveidot vienādojumu sistēmu katram $1\\leqslant n\\leqslant 784$. Šāda sistēma saturēs 784 vienādojumus un 784 nezināmos (no $x_1$ līdz $x_{784}$), kas var tikt viegli atrisināta.\n",
    "\n",
    "1. Izveido mainīgos `delta = 0.01` un `omega = 1` katrai $\\delta$ un $\\omega$ attiecīgi. Izveido sistēmas matricu un sistēmas labās puses vektoru.\n",
    "\n",
    "2. Atrisini sistēmu, lai atrastu vektoru un nezināmos $\\begin{bmatrix}x_1&\\dots&x_{784}\\end{bmatrix}^\\top$. Neaizmirsti, ka $x_0$ un $x_{785}$ ir konstantes, nevis nezināmie, tapēc tiem atbilstošos vienādojumos jānovieto labajā izteiksmes pusē.\n",
    "\n",
    "3. Grafiski attēlo iegūto atrisinājumu $x_n(n)$ , kur $n\\in[0,785]$."
   ]
  },
  {
   "cell_type": "code",
   "execution_count": null,
   "id": "7861ce69",
   "metadata": {},
   "outputs": [],
   "source": [
    "#vieta kodam"
   ]
  },
  {
   "cell_type": "markdown",
   "id": "38dc625d",
   "metadata": {},
   "source": [
    "4. Izmantojot grafiku, noskaidro funkcijas $x(t)$ analītisko formu, kad $t=n\\delta$.\n",
    "\n",
    "… Funkcija ir kosinus, laika momentā $t=0$ tā sasniedz maksimumu un tad sāk dilt.\n",
    "\n",
    "… Funkcijas periods ir $2\\pi$, tādēļ frekvence $\\omega=1$.\n",
    "\n",
    "… Amplitūda ir 0.1, tādēļ gala vienādojums ir $x(t)=0.1\\cos t$."
   ]
  },
  {
   "cell_type": "code",
   "execution_count": null,
   "id": "91f1db63",
   "metadata": {},
   "outputs": [],
   "source": [
    "#vieta kodam"
   ]
  },
  {
   "cell_type": "markdown",
   "id": "243ae5fd",
   "metadata": {},
   "source": [
    "5. Izmaini parametru $\\omega$ uz 1.4, 1.8, 2.2. Pārrēķini un attēlo jaunos risinājumus.\n",
    "\n",
    "… Grafiki atšķiras tikai ar frekvencēm. Tieši salīdzinot var redzēt, ka $\\omega$ ir leņķiskā frekvence."
   ]
  },
  {
   "cell_type": "code",
   "execution_count": null,
   "id": "37c403ef",
   "metadata": {},
   "outputs": [],
   "source": [
    "#vieta kodam"
   ]
  },
  {
   "cell_type": "markdown",
   "id": "b9062e35",
   "metadata": {},
   "source": [
    "## 3. uzdevums. 3D grafiki"
   ]
  },
  {
   "cell_type": "markdown",
   "id": "64f0cbed",
   "metadata": {},
   "source": [
    "Izveido 3D grafiku, kas attēlo funkciju $z=\\sin(\\sqrt{x^2-y^2})$.\n",
    "\n",
    "1. Importē nepieciešamās bibliotēkas: `numpy` (matemātiskajiem aprēķiniem), `matplotlib.pyplot` un `mpl_toolkits.mplot3d` (grafiku veidošanai).\n",
    "2. Izveido matemātisko funkciju $z = f(x, y)$.\n",
    "3. Izveido datu režģi, izmantojot `numpy.meshgrid`.\n",
    "4. Uzzīmē 3D grafiku, izmantojot `ax.plot_surface` vai `ax.contour3D`.\n",
    "5. Pievieno nosaukumu un asu nosaukumus.\n",
    "6. Pievieno anotācijas vai maini krāsu paleti."
   ]
  },
  {
   "cell_type": "code",
   "execution_count": null,
   "id": "75ece527",
   "metadata": {},
   "outputs": [],
   "source": [
    "#vieta kodam"
   ]
  },
  {
   "cell_type": "markdown",
   "id": "72fc6858",
   "metadata": {},
   "source": [
    "## 4. uzdevums. Testā nododamais uzdevums"
   ]
  },
  {
   "cell_type": "markdown",
   "id": "d8843842",
   "metadata": {},
   "source": [
    "Izveido 3D grafiku funkcijai $z=\\cos(x)\\cdot\\sin(y)$. Saglabā vektorgrafikā, norādot platumu 16pc (augstumu pielāgo platumam)."
   ]
  },
  {
   "cell_type": "code",
   "execution_count": null,
   "id": "1ab63846",
   "metadata": {},
   "outputs": [],
   "source": []
  }
 ],
 "metadata": {
  "language_info": {
   "name": "python"
  }
 },
 "nbformat": 4,
 "nbformat_minor": 5
}
