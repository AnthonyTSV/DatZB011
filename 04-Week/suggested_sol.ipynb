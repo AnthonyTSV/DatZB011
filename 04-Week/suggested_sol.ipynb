{
 "cells": [
  {
   "cell_type": "markdown",
   "id": "fea74c7f",
   "metadata": {},
   "source": [
    "**Saraksti** 1. uzdevums"
   ]
  },
  {
   "cell_type": "code",
   "execution_count": 1,
   "id": "cc915a8d",
   "metadata": {},
   "outputs": [
    {
     "name": "stdout",
     "output_type": "stream",
     "text": [
      "1\n",
      "2\n"
     ]
    }
   ],
   "source": [
    "nums = []\n",
    "while True:\n",
    "    nums.append(int(input('Ievadiet pozitīvu skaitli (vai 0, lai apturētu ievadi): ')))\n",
    "    if nums[-1] == 0:\n",
    "        nums.pop()\n",
    "        break\n",
    "for num in sorted(nums):\n",
    "    print(num)"
   ]
  },
  {
   "cell_type": "markdown",
   "id": "366351ed",
   "metadata": {},
   "source": [
    "**Saraksti** 2. uzdevums"
   ]
  },
  {
   "cell_type": "code",
   "execution_count": 7,
   "id": "47aa5363",
   "metadata": {},
   "outputs": [
    {
     "name": "stdout",
     "output_type": "stream",
     "text": [
      "Ievadītie vārdi:\n",
      "aa bb cc aa\n",
      "Unikālie vārdi:\n",
      "aa cc bb\n"
     ]
    }
   ],
   "source": [
    "words = input('Ievadiet vārdu sarakstu, atdalot tos ar atstarpēm: ').split()\n",
    "print(\"Ievadītie vārdi:\")\n",
    "print(' '.join(words))\n",
    "print(\"Unikālie vārdi:\")\n",
    "print(' '.join(list(set(words))))"
   ]
  },
  {
   "cell_type": "markdown",
   "id": "e65689c3",
   "metadata": {},
   "source": [
    "vai"
   ]
  },
  {
   "cell_type": "code",
   "execution_count": 9,
   "id": "9db6c742",
   "metadata": {},
   "outputs": [
    {
     "name": "stdout",
     "output_type": "stream",
     "text": [
      "Ievadītie vārdi:\n",
      "aa, bb, cc, aa\n",
      "Unikālie vārdi:\n",
      "aa, bb, cc\n"
     ]
    }
   ],
   "source": [
    "vardi = input('Ievadiet vārdu sarakstu, atdalot tos ar komatiem: ').split(\",\")\n",
    "print(\"Ievadītie vārdi:\")\n",
    "print(', '.join(vardi))\n",
    "jauns_saraksts = []\n",
    "for vards in vardi:\n",
    "    if vards not in jauns_saraksts:\n",
    "        jauns_saraksts.append(vards)\n",
    "print(\"Unikālie vārdi:\")\n",
    "print(', '.join(jauns_saraksts))"
   ]
  },
  {
   "cell_type": "markdown",
   "id": "5001df99",
   "metadata": {},
   "source": [
    "**Saraksti** 3. uzdevums"
   ]
  },
  {
   "cell_type": "code",
   "execution_count": 10,
   "id": "57970fdb",
   "metadata": {},
   "outputs": [
    {
     "name": "stdout",
     "output_type": "stream",
     "text": [
      "[8, 10, 17, 25, 26, 43]\n"
     ]
    }
   ],
   "source": [
    "import random\n",
    "print(sorted(random.sample(range(1, 50), 6)))"
   ]
  },
  {
   "cell_type": "markdown",
   "id": "f2ef536e",
   "metadata": {},
   "source": [
    "**Vārdnīcas** 1. uzdevums"
   ]
  },
  {
   "cell_type": "code",
   "execution_count": 11,
   "id": "9f09afaf",
   "metadata": {},
   "outputs": [
    {
     "name": "stdout",
     "output_type": "stream",
     "text": [
      "Ievadītā virkne: Hello World!\n",
      "Unikālo simbolu skaits: 9\n"
     ]
    }
   ],
   "source": [
    "virkne = input(\"Ievadiet virkni: \")\n",
    "print(\"Ievadītā virkne:\", virkne)\n",
    "simboli = {}\n",
    "for simbols in virkne:\n",
    "    simboli[simbols] = 1\n",
    "\n",
    "unikalie_simboli = len(simboli)\n",
    "print(\"Unikālo simbolu skaits:\", unikalie_simboli)"
   ]
  },
  {
   "cell_type": "markdown",
   "id": "0528b660",
   "metadata": {},
   "source": [
    "vai"
   ]
  },
  {
   "cell_type": "code",
   "execution_count": 12,
   "id": "7e28b288",
   "metadata": {},
   "outputs": [
    {
     "name": "stdout",
     "output_type": "stream",
     "text": [
      "Ievadītā virkne: Hello World!\n",
      "Unikālo simbolu skaits: 9\n"
     ]
    }
   ],
   "source": [
    "virkne = input(\"Ievadiet virkni: \")\n",
    "print(\"Ievadītā virkne:\", virkne)\n",
    "virkne_set = set(virkne)\n",
    "print(\"Unikālo simbolu skaits:\", len(virkne_set))"
   ]
  },
  {
   "cell_type": "markdown",
   "id": "7815ce1e",
   "metadata": {},
   "source": [
    "**Vārdnīcas** 2. uzdevums"
   ]
  },
  {
   "cell_type": "code",
   "execution_count": 15,
   "id": "fc8cdc9e",
   "metadata": {},
   "outputs": [
    {
     "name": "stdout",
     "output_type": "stream",
     "text": [
      "Ievadītie vārdi: sports un strops\n",
      "Vārdi ir anagrammas.\n"
     ]
    }
   ],
   "source": [
    "\"\"\"\n",
    "Definīcija. Anagramma (grieķu: ἀνά, ana — 'augšā, atpakaļ' + γράμμα,\n",
    "grámma — 'burts') ir vārdu spēle, kurā vienā vai vairākos vārdos mainot burtu\n",
    "izkārtojumu, iegūst citus vārdus, kuru nozīme būtiski atšķiras, piemēram,\n",
    "vārdā \"sports\" mainot burtu izkārtojumu var iegūt vārdu \"strops\".\n",
    "Avots: Wikipedia\n",
    "\"\"\"\n",
    "\n",
    "# pirmais variants -> anagramma pēc definīcijas\n",
    "\n",
    "vards1 = input(\"Ievadiet pirmo vārdu: \")\n",
    "vards2 = input(\"Ievadiet otro vārdu: \")\n",
    "\n",
    "print(\"Ievadītie vārdi:\", vards1, \"un\", vards2)\n",
    "\n",
    "if sorted(vards1) == sorted(vards2):\n",
    "    print(\"Vārdi ir anagrammas.\")\n",
    "else:\n",
    "    print(\"Vārdi nav anagrammas.\")\n",
    "\n"
   ]
  },
  {
   "cell_type": "markdown",
   "id": "df3fd81f",
   "metadata": {},
   "source": [
    "vai"
   ]
  },
  {
   "cell_type": "code",
   "execution_count": 17,
   "id": "4103f262",
   "metadata": {},
   "outputs": [
    {
     "name": "stdout",
     "output_type": "stream",
     "text": [
      "Ievadītie vārdi: sports un stoprs\n",
      "Vārdi nav reversās anagrammas.\n"
     ]
    }
   ],
   "source": [
    "# otrais variants -> pārbaudām, vai piemais burts sakrīt ar pēdējo,\n",
    "#otrais ar priekšpēdējo ..., resp., vai vārdi ir reversās anagrammas\n",
    "\n",
    "vards1 = input(\"Ievadiet pirmo vārdu: \")\n",
    "vards2 = input(\"Ievadiet otro vārdu: \")\n",
    "\n",
    "print(\"Ievadītie vārdi:\", vards1, \"un\", vards2)\n",
    "\n",
    "if len(vards1) != len(vards2):\n",
    "    print(\"Vārdi nav reversās anagrammas.\")\n",
    "else:\n",
    "    ir_reverss = True\n",
    "    for i in range(len(vards1)):\n",
    "        if vards1[i] != vards2[-i-1]:\n",
    "            ir_reverss = False\n",
    "            break\n",
    "    \n",
    "    if ir_reverss:\n",
    "        print(\"Vārdi ir reversās anagrammas!\")\n",
    "    else:\n",
    "        print(\"Vārdi nav reversās anagrammas.\")"
   ]
  },
  {
   "cell_type": "markdown",
   "id": "48386ed2",
   "metadata": {},
   "source": [
    "**Vārdnīcas** 3. uzdevums"
   ]
  },
  {
   "cell_type": "code",
   "execution_count": 19,
   "id": "297f1890",
   "metadata": {},
   "outputs": [
    {
     "name": "stdout",
     "output_type": "stream",
     "text": [
      "Kopējais punktu skaits par vārdu 'GUDRS' ir: 7\n"
     ]
    }
   ],
   "source": [
    "punkti = {\n",
    "    1: ['A', 'E', 'I', 'L', 'N', 'O', 'R', 'S', 'T', 'U'],\n",
    "    2: ['D', 'G'],\n",
    "    3: ['B', 'C', 'M', 'P'],\n",
    "    4: ['F', 'H', 'V', 'W', 'Y'],\n",
    "    5: ['K'],\n",
    "    8: ['J', 'X'],\n",
    "    10: ['Q', 'Z']\n",
    "}\n",
    "\n",
    "burts_punkti = {}\n",
    "\n",
    "for punkti, burti in punkti.items():\n",
    "    for burts in burti:\n",
    "        burts_punkti[burts] = punkti\n",
    "\n",
    "vards = input(\"Ievadiet vārdu: \").upper()\n",
    "\n",
    "kop_punkti = 0\n",
    "for burts in vards:\n",
    "    if burts in burts_punkti:\n",
    "        kop_punkti += burts_punkti[burts]\n",
    "    else:\n",
    "        print(f\"Burts '{burts}' nav derīgs Scrabble spēlē.\")\n",
    "\n",
    "print(f\"Kopējais punktu skaits par vārdu '{vards}' ir: {kop_punkti}\")\n"
   ]
  },
  {
   "cell_type": "markdown",
   "id": "90d5a4b3",
   "metadata": {},
   "source": [
    "**Vārdnīcas** 4. uzdevums"
   ]
  },
  {
   "cell_type": "code",
   "execution_count": 22,
   "id": "fa6c46c7",
   "metadata": {},
   "outputs": [
    {
     "name": "stdout",
     "output_type": "stream",
     "text": [
      "Ievadītā frāze: MUMS IR DARBS\n",
      "Morzes kods: -- ..- -- ... / .. .-. / -.. .- .-. -... ...\n"
     ]
    }
   ],
   "source": [
    "morzes_kods = {\n",
    "    'A': '.-', 'B': '-...', 'C': '-.-.', 'D': '-..', 'E': '.', 'F': '..-.',\n",
    "    'G': '--.', 'H': '....', 'I': '..', 'J': '.---', 'K': '-.-', 'L': '.-..',\n",
    "    'M': '--', 'N': '-.', 'O': '---', 'P': '.--.', 'Q': '--.-', 'R': '.-.',\n",
    "    'S': '...', 'T': '-', 'U': '..-', 'V': '...-', 'W': '.--', 'X': '-..-',\n",
    "    'Y': '-.--', 'Z': '--..',\n",
    "    '0': '-----', '1': '.----', '2': '..---', '3': '...--', '4': '....-', \n",
    "    '5': '.....', '6': '-....', '7': '--...', '8': '---..', '9': '----.',\n",
    "    ' ': '/',\n",
    "    ',': '--..--', '.': '.-.-.-', '?': '..--..', \"'\": '.----.', '!': '-.-.--',\n",
    "    '/': '-..-.', '(': '-.--.', ')': '-.--.-', '&': '.-...', ':': '---...',\n",
    "    ';': '-.-.-.', '=': '-...-', '+': '.-.-.', '-': '-....-', '_': '..--.-',\n",
    "    '\"': '.-..-.', '$': '...-..-', '@': '.--.-.'\n",
    "}\n",
    "\n",
    "# Pieprasām lietotājam ievadīt frāzi\n",
    "fraze = input(\"Ievadiet frāzi, kuru pārveidot Morzes kodā: \").upper()\n",
    "\n",
    "print(\"Ievadītā frāze:\", fraze)\n",
    "\n",
    "# Pārveidojam frāzi Morzes kodā\n",
    "morzes_rezultats = ' '.join(morzes_kods[burts] for burts in fraze if burts in morzes_kods)\n",
    "\n",
    "# Izvadām pārveidoto frāzi\n",
    "print(\"Morzes kods:\", morzes_rezultats)\n"
   ]
  }
 ],
 "metadata": {
  "kernelspec": {
   "display_name": ".venv",
   "language": "python",
   "name": "python3"
  },
  "language_info": {
   "codemirror_mode": {
    "name": "ipython",
    "version": 3
   },
   "file_extension": ".py",
   "mimetype": "text/x-python",
   "name": "python",
   "nbconvert_exporter": "python",
   "pygments_lexer": "ipython3",
   "version": "3.10.5"
  }
 },
 "nbformat": 4,
 "nbformat_minor": 5
}
