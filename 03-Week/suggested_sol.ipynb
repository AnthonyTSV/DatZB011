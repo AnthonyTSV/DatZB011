{
 "cells": [
  {
   "cell_type": "markdown",
   "id": "9493a90e",
   "metadata": {},
   "source": [
    "# Uzdevumu atrisinājumu piemēri"
   ]
  },
  {
   "cell_type": "markdown",
   "id": "beeccc34",
   "metadata": {},
   "source": [
    "## 1. uzdevums\n",
    "\n",
    "### Mērķis: apgūt `if`, `else` un `elif` lietošanu\n",
    "\n",
    "Uzrakstiet *Python* programmu, kas prasa lietotājam ievadīt temperatūru Celsija grādos un pēc tam aprēķina un parāda ekvivalento temperatūru:\n",
    "\n",
    "- Fārenheitos: $F = C \\times \\frac{9}{5} + 32$\n",
    "- Kelvinos: $K = C + 273,15$\n",
    "\n",
    "Pēc temperatūras pārvērdošanas programmai:\n",
    "\n",
    "1. Jāpārbauda, vai temperatūra nav zem absolūtās nulles (mazāka par -273,15°C). Ja tā ir mazāka, izdrukājiet brīdinājumu: **Temperatūra zem absolūtās nulles fiziski nav iespējama.**\n",
    "\n",
    "2. Ja temperatūra ir derīga:\n",
    "\n",
    "- Ja Fārenheitos temperatūra ir augstāka par 212 °F, izdrukājiet **Temperatūra ir virs ūdens viršanas temperatūras.**\n",
    "- Ja Fārenheitos temperatūra ir zemāka par 32 °F, izdrukājiet **Temperatūra ir zem ūdens sasalšanas punkta.**\n",
    "- Pretējā gadījumā izdrukājiet **Temperatūra ir starp ūdens sasalšanas un viršanas temperatūru.**\n",
    "\n",
    "Pilnveidojiet programmu, pievienojot nosacījumu, kurā, ja lietotājs ievada temperatūru zem absolūtās nulles (mazāku par -273,15°C), programmai nekavējoties jāapstājas, izdrukājot ziņojumu: **Temperatūra zem absolūtās nulles nav iespējama.**"
   ]
  },
  {
   "cell_type": "code",
   "execution_count": 2,
   "id": "89a5ee33",
   "metadata": {},
   "outputs": [
    {
     "name": "stdout",
     "output_type": "stream",
     "text": [
      "Ievadītā temperatūra pēc Celsija skalas: 55.00°C\n",
      "Ievadītā temperatūra pēc Fārenheita skalas: 131.00°F\n",
      "Ievadītā temperatūra pēc Kelvina skalas: 328.15K\n",
      "Temperatūra ir starp ūdens sasalšanas un viršanas temperatūru.\n"
     ]
    }
   ],
   "source": [
    "celsij = float(input(\"Ievadi temperatūru: \"))\n",
    "farenh = celsij * (9/5) + 32\n",
    "kelvin = celsij + 273.15\n",
    "\n",
    "print(f\"Ievadītā temperatūra pēc Celsija skalas: {celsij:.2f}°C\")\n",
    "print(f\"Ievadītā temperatūra pēc Fārenheita skalas: {farenh:.2f}°F\")\n",
    "print(f\"Ievadītā temperatūra pēc Kelvina skalas: {kelvin:.2f}K\")\n",
    "\n",
    "if kelvin < 0:\n",
    "    print(\"Temperatūra zem absolūtās nulles fiziski nav iespējama.\")\n",
    "else:\n",
    "    if farenh > 212:\n",
    "        print(\"Temperatūra ir virs ūdens viršanas temperatūras\")\n",
    "    elif farenh < 32:\n",
    "        print(\"Temperatūra ir zem ūdens sasalšanas punkta.\")\n",
    "    else:\n",
    "        print(\"Temperatūra ir starp ūdens sasalšanas un viršanas temperatūru.\")"
   ]
  },
  {
   "cell_type": "markdown",
   "id": "73fe82a7",
   "metadata": {},
   "source": [
    "## 2. uzdevums\n",
    "\n",
    "### Mērķis: apgūt `while` cikla izmantošanu\n",
    "\n",
    "Uzrakstiet *Python* programmu, kas lūdz lietotājam uzminēt aptuveno gaismas ātrumu vakuumā (metros sekundē).\n",
    "\n",
    "- Programmai jādarbojas līdz lietotājs to pareizi uzminēs (pareizā atbilde: 299 792 458 m/s).\n",
    "- Ja ievadītais minējums ir pārāk liels, izdrukājiet **Pārāk liels skaitlis!**\n",
    "- Ja ievadītais minējums ir pārāk zems, izdrukājiet **Pārāk mazs skaitlis!**\n",
    "- Kad pareizā atbilde ir uzminēta, izdrukājiet **Pareizi! Gaismas ātrums ir 299 792 458 m/s.**\n",
    "\n",
    "Neaizmirstiet izmantot `break`, lai apturētu (neizveidotos bezgalīgs cikls)!"
   ]
  },
  {
   "cell_type": "code",
   "execution_count": 4,
   "id": "1950a5d0",
   "metadata": {},
   "outputs": [
    {
     "name": "stdout",
     "output_type": "stream",
     "text": [
      "Ievadītais skaitlis: 273 m/s\n",
      "Pārāk mazs skaitlis!\n",
      "Ievadītais skaitlis: 300000000 m/s\n",
      "Pārāk liels skaitlis!\n",
      "Ievadītais skaitlis: 299792458 m/s\n",
      "Pareizi! Gaismas ātrums ir 299 792 458 m/s\n"
     ]
    }
   ],
   "source": [
    "# 2. uzdevums\n",
    "\n",
    "gaism_atr = 299_792_458 # m/s\n",
    "\n",
    "while True:\n",
    "    lietotaja_atr = int(input(\"Gaismas ātrums: \"))\n",
    "    print(f\"Ievadītais skaitlis: {lietotaja_atr} m/s\")\n",
    "    if lietotaja_atr > gaism_atr:\n",
    "        print(\"Pārāk liels skaitlis!\")\n",
    "    elif lietotaja_atr < gaism_atr:\n",
    "        print(\"Pārāk mazs skaitlis!\")\n",
    "    else:\n",
    "        print(\"Pareizi! Gaismas ātrums ir 299 792 458 m/s\")\n",
    "        break"
   ]
  },
  {
   "cell_type": "markdown",
   "id": "1739242b",
   "metadata": {},
   "source": [
    "## 3. uzdevums\n",
    "\n",
    "### Mērķis: apgūt cikla `while` izmantošanu\n",
    "\n",
    "Izveidojiet programmu, kas lūdz ievadīt paroli, lai piekļūtu fizikas laboratorijai.\n",
    "\n",
    "- Parole ir \"E=mc^2\".\n",
    "- Ja lietotājs ievada nepareizu paroli, izdrukājiet **Nepareiza parole, mēģiniet vēlreiz.**\n",
    "- Kad ir ievadīta pareizā parole, izdrukājiet **Piekļuve piešķirta.**\n",
    "\n",
    "Papildus uzdevums ar `break`:\n",
    "\n",
    "- Ļaujiet lietotājam trīs reizes mēģināt ievadīt paroli. Pēc trim neveiksmīgiem mēģinājumiem izmantojiet `break`, lai beigtu ciklu, un izdrukājiet\n",
    "**Pārāk daudz nepareizu mēģinājumu, piekļuve liegta.**"
   ]
  },
  {
   "cell_type": "code",
   "execution_count": 7,
   "id": "67c5cbdf",
   "metadata": {},
   "outputs": [
    {
     "name": "stdout",
     "output_type": "stream",
     "text": [
      "Ievadītā parole: 42\n",
      "Nepareiza parole, mēģiniet vēlreiz\n",
      "Ievadītā parole: Fizmati\n",
      "Nepareiza parole, mēģiniet vēlreiz\n",
      "Ievadītā parole: E=mc^2\n",
      "Piekļuve piešķirta\n"
     ]
    }
   ],
   "source": [
    "parole = \"E=mc^2\"\n",
    "user_input = \"\"\n",
    "while user_input != parole:\n",
    "    user_input = input(\"Parole: \")\n",
    "    print(f\"Ievadītā parole: {user_input}\")\n",
    "    if parole == user_input:\n",
    "        print(\"Piekļuve piešķirta\")\n",
    "    else:\n",
    "        print(\"Nepareiza parole, mēģiniet vēlreiz\")"
   ]
  },
  {
   "cell_type": "markdown",
   "id": "d4389099",
   "metadata": {},
   "source": [
    "vai"
   ]
  },
  {
   "cell_type": "code",
   "execution_count": 8,
   "id": "ff477c2a",
   "metadata": {},
   "outputs": [
    {
     "name": "stdout",
     "output_type": "stream",
     "text": [
      "Ievadītā parole: 1\n",
      "Nepareiza parole, mēģiniet vēlreiz\n",
      "Ievadītā parole: 42\n",
      "Nepareiza parole, mēģiniet vēlreiz\n",
      "Ievadītā parole: fizmati\n",
      "Nepareiza parole, mēģiniet vēlreiz\n",
      "Piekļuve liegta, mēģinājumu skaits pārsniegts.\n"
     ]
    }
   ],
   "source": [
    "for _ in range(3): # _ ir mainīgais, kuru neplānojam izmantot\n",
    "    user_input = input(\"Parole: \")\n",
    "    print(f\"Ievadītā parole: {user_input}\")\n",
    "    if parole == user_input:\n",
    "        print(\"Piekļuve piešķirta\")\n",
    "        break\n",
    "    else:\n",
    "        print(\"Nepareiza parole, mēģiniet vēlreiz\")\n",
    "else:\n",
    "    print(\"Piekļuve liegta, mēģinājumu skaits pārsniegts.\")"
   ]
  },
  {
   "cell_type": "markdown",
   "id": "eab2ed03",
   "metadata": {},
   "source": [
    "## 4. uzdevums\n",
    "\n",
    "### Mērķis: apgūt, kā strādāt ar sarakstiem, izmantojot ciklu `for`\n",
    "\n",
    "Uzrakstiet programmu, kurā ir dažādu vienādojumu saraksts, piemēram, `[\"F = ma\", \"E = mc^2\", \"V = IR\", \"P = IV\", \"K.E. = 1/2 mv^2\"]`. Izmantojiet `for` ciklu, lai izdrukātu katru vienādojumu jaunā rindā.\n",
    "\n",
    "Izmantojot `break`, apturiet atlikušo vienādojumu drukāšanu, tiklīdz ir atrasts \"E = mc^2\"."
   ]
  },
  {
   "cell_type": "code",
   "execution_count": 9,
   "id": "4dafc28d",
   "metadata": {},
   "outputs": [
    {
     "name": "stdout",
     "output_type": "stream",
     "text": [
      "F = ma\n",
      "E = mc^2\n"
     ]
    }
   ],
   "source": [
    "vienadojumi = [\"F = ma\", \"E = mc^2\", \"V = IR\", \"P = IV\", \"K.E. = 1/2 mv^2\"]\n",
    "for vienadojums in vienadojumi:\n",
    "    print(vienadojums)\n",
    "    if vienadojums == \"E = mc^2\":\n",
    "        break\n"
   ]
  },
  {
   "cell_type": "markdown",
   "id": "2dea30ea",
   "metadata": {},
   "source": [
    "## 5. uzdevums\n",
    "\n",
    "### Mērķis: apgūt, kā izmantot iegultos ciklus (*nested loops*)\n",
    "\n",
    "Izmantojot iegulto ciklu, uzrakstiet programmu, kas no saraksta izveido diagonālo matricu un to izvada.\n",
    "\n",
    "Piemēram, ievaddati: `[0, 1, 2, 3]` un izvada:\n",
    "\n",
    "```bash\n",
    "0 0 0 0\n",
    "0 1 0 0\n",
    "0 0 2 0\n",
    "0 0 0 3\n",
    "```"
   ]
  },
  {
   "cell_type": "code",
   "execution_count": 10,
   "id": "414cef48",
   "metadata": {},
   "outputs": [
    {
     "name": "stdout",
     "output_type": "stream",
     "text": [
      "0 0 0 0 \n",
      "0 1 0 0 \n",
      "0 0 2 0 \n",
      "0 0 0 3 \n"
     ]
    }
   ],
   "source": [
    "ievaddati = [0, 1, 2, 3]\n",
    "\n",
    "rindu_sk = len(ievaddati)\n",
    "kolonnu_sk = len(ievaddati)\n",
    "\n",
    "for i in range(rindu_sk):\n",
    "    for j in range(kolonnu_sk):\n",
    "        if i == j:\n",
    "            print(ievaddati[i], end=\" \")\n",
    "        else:\n",
    "            print(0, end=\" \")\n",
    "    print(\"\")"
   ]
  },
  {
   "cell_type": "markdown",
   "id": "27db86c4",
   "metadata": {},
   "source": [
    "## 6. uzdevums\n",
    "\n",
    "### Mērķis: apgūt loģisko funkciju `and`, `or`, `not` izmantošanu\n",
    "\n",
    "Uzrakstiet programmu, kas iedala veselu skaitļu sarakstu dažādās grupās, pamatojoties uz nosacījumiem. Izmantojiet `and`, `or` un `not`, lai izveidotu loģiskās izteiksmes. Lai izlaistu vērtības, izmantojiet `continue`.\n",
    "\n",
    "Ievaddati: veselu skaitļu (`int`) saraksts.\n",
    "\n",
    "Katram skaitlim sarakstā:\n",
    "\n",
    "- Ja skaitlis ir negatīvs un pāra, izlaidiet skaitli, izmantojot `continue`.\n",
    "- Ja skaitlis ir pozitīvs un pāra, programmai jāizvada **Pozitīvs un pāra.**\n",
    "- Ja skaitlis ir negatīvs un nepāra, programmai jāizvada **Negatīvs un nepāra.**\n",
    "- Ja skaitlis ir pozitīvs un nepāra, programmai jāizvada **Pozitīvs un nepāra.**\n",
    "- Ja skaitlis ir 0, programmai jāizvada **Nulle nav ne pozitīva, ne negatīva.**\n",
    "- Ja skaitlis ir no 5 līdz 15 (ieskaitot), programmai jāizvada **Skaitlis ir diapazonā: no 5 līdz 15.**\n",
    "- Ja skaitlis ir mazāks par -10 vai lielāks par 20, programmai jāizvada **Ārpus diapazona.**"
   ]
  },
  {
   "cell_type": "code",
   "execution_count": 12,
   "id": "8342926e",
   "metadata": {},
   "outputs": [
    {
     "name": "stdout",
     "output_type": "stream",
     "text": [
      "['1', '2', '3', '4']\n",
      "Skaitlis: 1\n",
      "Pozitīvs un nepāra\n",
      "Nekas no augstāk minētā\n",
      "Skaitlis: 2\n",
      "Pozitīvs un pāra\n",
      "Nekas no augstāk minētā\n",
      "Skaitlis: 3\n",
      "Pozitīvs un nepāra\n",
      "Nekas no augstāk minētā\n",
      "Skaitlis: 4\n",
      "Pozitīvs un pāra\n",
      "Nekas no augstāk minētā\n"
     ]
    }
   ],
   "source": [
    "skaitlu_sarakts_input = input(\"Ievadiet skaitļu sarakstu, atdalot ar komatu: \")\n",
    "skaitlu_sarakts = skaitlu_sarakts_input.split(\",\")\n",
    "\n",
    "print(skaitlu_sarakts)\n",
    "\n",
    "for skaitlis in skaitlu_sarakts:\n",
    "    skaitlis = int(skaitlis)\n",
    "    print(f\"Skaitlis: {skaitlis}\")\n",
    "    if skaitlis < 0 and skaitlis % 2 == 0:\n",
    "        continue\n",
    "    elif skaitlis > 0 and skaitlis % 2 == 0:\n",
    "        print(\"Pozitīvs un pāra\")\n",
    "    elif skaitlis < 0 and skaitlis % 2 != 0:\n",
    "        print(\"Negatīvs un nepāra\")\n",
    "    elif skaitlis > 0 and skaitlis % 2 != 0:\n",
    "        print(\"Pozitīvs un nepāra\")\n",
    "    elif skaitlis == 0:\n",
    "        print(\"Nulle nav ne pozitīva, ne negatīva\")\n",
    "    if 5 <= skaitlis <= 15:\n",
    "        print(\"Skaitlis ir diapazonā: no 5 līdz 15\")\n",
    "    if skaitlis < -10 or skaitlis > 20:\n",
    "        print(\"Ārpus diapazona\")\n",
    "    else:\n",
    "        print(\"Nekas no augstāk minētā\")"
   ]
  },
  {
   "cell_type": "markdown",
   "id": "6a3d9ccf",
   "metadata": {},
   "source": [
    "## 7. uzdevums\n",
    "\n",
    "### Mērķis: apgūt `match-case` izmantošanu\n",
    "\n",
    "Uzrakstiet programmu, kas izmanto `match-case` struktūru, lai aprēķinātu dažādus fizikālos lielumus, pamatojoties uz lietotāja ievaddatiem. Lietotājam jāizvēlas, ko viņš vēlas aprēķināt un jāsniedz ievaddatus, pamatojoties uz kuriem programma izvada gala rezultātu. Piemēri aprēķiniem:\n",
    "\n",
    "- Spēks (F = m * a, kur m ir masa un a ir paātrinājums)\n",
    "- Gravitācijas spēks ($F = G \\times m1 \\times m2 / r^2$, kur G ir gravitācijas konstante, m1 un m2 ir masas, un r ir attālums starp tām)\n",
    "- Kinētiskā enerģija ($KE = 0,5 \\times m \\times v^2$, kur m ir masa un v ir ātrums)\n",
    "- Potenciālā enerģija ($PE = m \\times g \\times h$, kur m ir masa, g ir gravitācija un h ir augstums)\n",
    "\n",
    "Programmai jāsniedz informācija lietotājam, ko iespējams aprēķināt, un tad jāpierasa nepieciešamās vērtības (masa, ātrums utt.), lai veiktu aprēķinu.\n",
    "\n",
    "1. papildus uzdevums – programma lūdz ievadīt pareizu izvēli, ja lietotājs veicis nevalidu aprēķina izvēli, kā arī pēc veiksmīga aprēķina piedāvā atkārtoti aprēķināt citu lielumu līdz kamēr lietotājs aptur programmu.\n",
    "\n",
    "2. papildus uzdevums – tiek veikta ievadāmo datu validācija, piemēram, masa nedrīkst būt negatīva."
   ]
  },
  {
   "cell_type": "code",
   "execution_count": 14,
   "id": "51606172",
   "metadata": {},
   "outputs": [
    {
     "name": "stdout",
     "output_type": "stream",
     "text": [
      "Izvēlies, ko vēlies aprēķināt:\n",
      "1. Spēks (F = m * a)\n",
      "2. Gravitācijas spēks (F = G * (m1 * m2) / r^2)\n",
      "3. Kinētiskā enerģija (K.E. = 1/2 mv^2)\n",
      "4. Potenciālā enerģija (P.E. = mgh)\n",
      "Ievadītā izvēle: 2\n",
      "Gravitācijas spēks: 5.606412e-09 N\n"
     ]
    }
   ],
   "source": [
    "print(\"Izvēlies, ko vēlies aprēķināt:\")\n",
    "print(\"1. Spēks (F = m * a)\")\n",
    "print(\"2. Gravitācijas spēks (F = G * (m1 * m2) / r^2)\")\n",
    "print(\"3. Kinētiskā enerģija (K.E. = 1/2 mv^2)\")\n",
    "print(\"4. Potenciālā enerģija (P.E. = mgh)\")\n",
    "izvele = input(\"Ievadi izvēli (1/2/3/4): \")\n",
    "print(f\"Ievadītā izvēle: {izvele}\")\n",
    "match izvele:\n",
    "    case \"1\":\n",
    "        m = float(input(\"Ievadi masu (kg): \"))\n",
    "        a = float(input(\"Ievadi paātrinājumu (m/s^2): \"))\n",
    "        F = m * a\n",
    "        print(f\"Spēks: {F} N\")\n",
    "    case \"2\":\n",
    "        G = 6.67430e-11  # Gravitācijas konstante m\n",
    "        m1 = float(input(\"Ievadi pirmās masas (kg): \"))\n",
    "        m2 = float(input(\"Ievadi otrās masas (kg): \"))\n",
    "        r = float(input(\"Ievadi attālumu starp masām (m): \"))\n",
    "        F = G * (m1 * m2) / r**2\n",
    "        print(f\"Gravitācijas spēks: {F} N\")\n",
    "    case \"3\":\n",
    "        m = float(input(\"Ievadi masu (kg): \"))  \n",
    "        v = float(input(\"Ievadi ātrumu (m/s): \"))\n",
    "        KE = 0.5 * m * v**2\n",
    "        print(f\"Kinētiskā enerģija: {KE} J\")\n",
    "    case \"4\":\n",
    "        m = float(input(\"Ievadi masu (kg): \"))\n",
    "        g = 9.81  # Gravitācijas paātrinājums m/s^2\n",
    "        h = float(input(\"Ievadi augstumu (m): \"))\n",
    "        PE = m * g * h\n",
    "        print(f\"Potenciālā enerģija: {PE} J\")\n",
    "    case _:\n",
    "        print(\"Nederīga izvēle. Lūdzu, izvēlies 1, 2, 3 vai 4.\")"
   ]
  }
 ],
 "metadata": {
  "kernelspec": {
   "display_name": ".venv",
   "language": "python",
   "name": "python3"
  },
  "language_info": {
   "codemirror_mode": {
    "name": "ipython",
    "version": 3
   },
   "file_extension": ".py",
   "mimetype": "text/x-python",
   "name": "python",
   "nbconvert_exporter": "python",
   "pygments_lexer": "ipython3",
   "version": "3.10.5"
  }
 },
 "nbformat": 4,
 "nbformat_minor": 5
}
