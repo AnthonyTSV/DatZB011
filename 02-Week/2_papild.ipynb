{
 "cells": [
  {
   "cell_type": "markdown",
   "id": "ebfb096f",
   "metadata": {},
   "source": [
    "# 2. nedēļas papildus uzdevumi"
   ]
  },
  {
   "cell_type": "markdown",
   "id": "df3bdba8",
   "metadata": {},
   "source": [
    "## 1. uzdevums\n",
    "Definēt trīs veselu skaitļu mainīgos.\n",
    "\n",
    "Veikt ar tiem 5 dažādas aritmētisku darbību kombinācijas pēc izvēles un izvadīt rezultātu uz ekrāna. \n",
    "\n",
    "Izvadam uz ekrāna ir pievienots arī teksts ar atšifrējumu, piemēram, ja a=2, b=3 un c=5 uz ekrāna izvada: a+b\\*\\*c = 245, kā arī (a + b)/c = 1 un vēl trīs darbības."
   ]
  },
  {
   "cell_type": "code",
   "execution_count": 1,
   "id": "4262c762",
   "metadata": {},
   "outputs": [
    {
     "name": "stdout",
     "output_type": "stream",
     "text": [
      "a + b = 11\n",
      "a - b = -3\n",
      "a * b = 28\n",
      "a / b = 0.5714285714285714\n",
      "a ** b = 16384\n"
     ]
    }
   ],
   "source": [
    "# Definējam mainīgos\n",
    "a = 4\n",
    "b = 7\n",
    "c = 2\n",
    "\n",
    "# Veicam aritmētiskās darbības\n",
    "print(\"a + b =\", a + b)\n",
    "print(\"a - b =\", a - b)\n",
    "print(\"a * b =\", a * b)\n",
    "print(\"a / b =\", a / b)\n",
    "print(\"a ** b =\", a ** b)"
   ]
  },
  {
   "cell_type": "markdown",
   "id": "28976e5a",
   "metadata": {},
   "source": [
    "## 2. uzdevums. Spiediena mērvienības\n",
    "\n",
    "Izveidojiet programmu, kas lietotāja ievadīto spiedienu kPa pārveidos uz PSI, mmHg un atmosfērās.\n",
    "\n",
    "Uz ekrāna jāizvada spiediens visās vienībās, koeficientus un nepieciešamās formulas nepieciešams atrast internetā."
   ]
  },
  {
   "cell_type": "code",
   "execution_count": 2,
   "id": "ca850f67",
   "metadata": {},
   "outputs": [
    {
     "name": "stdout",
     "output_type": "stream",
     "text": [
      "Spiediens kPa: 130.0\n",
      "Spiediens PSI: 18.85494\n",
      "Spiediens mmHg: 975.0806\n",
      "Spiediens atmosfērās: 1.2830002467308166\n"
     ]
    }
   ],
   "source": [
    "spiediens_kpa = float(input(\"Ievadiet spiedienu kPa: \"))\n",
    "spiediens_psi = spiediens_kpa * 0.145038\n",
    "spiediens_mmhg = spiediens_kpa * 7.50062\n",
    "spiediens_atm = spiediens_kpa / 101.325\n",
    "\n",
    "print(\"Spiediens kPa:\", spiediens_kpa)\n",
    "print(\"Spiediens PSI:\", spiediens_psi)\n",
    "print(\"Spiediens mmHg:\", spiediens_mmhg)\n",
    "print(\"Spiediens atmosfērās:\", spiediens_atm)"
   ]
  },
  {
   "cell_type": "markdown",
   "id": "d30acf36",
   "metadata": {},
   "source": [
    "## 3. uzdevums\n",
    "\n",
    "Izveidot programmu, kas prasa ievadīt planētas masu un blīvumu. \n",
    "\n",
    "Pēc šo lielumu ievades, programma uz ekrāna parāda tekstu, kur pateikts, kāds ir planētas rādiuss."
   ]
  },
  {
   "cell_type": "code",
   "execution_count": 4,
   "id": "3470a6d5",
   "metadata": {},
   "outputs": [
    {
     "name": "stdout",
     "output_type": "stream",
     "text": [
      "Planētas rādiuss ir: 2879411.9114848585 m\n",
      "Planētas rādiuss ir: 2.88e+06 m\n"
     ]
    }
   ],
   "source": [
    "import math\n",
    "\n",
    "masa = float(input(\"Ievadiet planētas masu (kg): \"))\n",
    "blivums = float(input(\"Ievadiet planētas blīvumu (kg/m^3): \"))\n",
    "\n",
    "pi = math.pi\n",
    "\n",
    "radiuss = ((3 * masa) / (4 * pi * blivums)) ** (1/3)\n",
    "\n",
    "print(\"Planētas rādiuss ir:\", radiuss, \"m\")\n",
    "# skaisti noformatēts teksts\n",
    "print(f\"Planētas rādiuss ir: {radiuss:.2e} m\")"
   ]
  },
  {
   "cell_type": "markdown",
   "id": "c880d4c3",
   "metadata": {},
   "source": [
    "## 4. uzdevums. Skaitļu formatēšana\n",
    "\n",
    "([špikeris](https://mkaz.blog/working-with-python/string-formatting))\n",
    "\n",
    "Izveidot programmu, kurā ir definēts mainīgais ar skaitlisku vērtību: daļskaitli starp 1 un 10 miljoniem (piemēram, 3412352.6234). \n",
    "\n",
    "Programma izvada uz ekrāna šī mainīgā vērtību noformētu trīs dažādos veidos:\n",
    "* normālformā ar trīs zīmīgajiem cipariem un vienmēr parādītu zīmi (piemēram, +3.4e+06),\n",
    "* ar tūkstošiem atdalītiem ar komatu (piemēram, 3,412,352.6234) un\n",
    "* ar diviem cipariem aiz komata (piemēram, 3412352.62)."
   ]
  },
  {
   "cell_type": "code",
   "execution_count": 5,
   "id": "36dfef54",
   "metadata": {},
   "outputs": [
    {
     "name": "stdout",
     "output_type": "stream",
     "text": [
      "Normālformā ar trīs zīmīgajiem cipariem un vienmēr parādītu zīmi: +3.412e+06\n",
      "Ar tūkstošiem atdalītiem ar komatu: 3,412,352.6234\n",
      "Ar diviem cipariem aiz komata: 3412352.62\n"
     ]
    }
   ],
   "source": [
    "skaitlis = 3412352.6234\n",
    "print(f\"Normālformā ar trīs zīmīgajiem cipariem un vienmēr parādītu zīmi: {skaitlis:+.3e}\")\n",
    "print(f\"Ar tūkstošiem atdalītiem ar komatu: {skaitlis:,.4f}\")\n",
    "print(f\"Ar diviem cipariem aiz komata: {skaitlis:.2f}\")"
   ]
  }
 ],
 "metadata": {
  "kernelspec": {
   "display_name": ".venv",
   "language": "python",
   "name": "python3"
  },
  "language_info": {
   "codemirror_mode": {
    "name": "ipython",
    "version": 3
   },
   "file_extension": ".py",
   "mimetype": "text/x-python",
   "name": "python",
   "nbconvert_exporter": "python",
   "pygments_lexer": "ipython3",
   "version": "3.10.5"
  }
 },
 "nbformat": 4,
 "nbformat_minor": 5
}
